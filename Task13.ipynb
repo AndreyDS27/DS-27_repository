{
 "cells": [
  {
   "cell_type": "markdown",
   "metadata": {},
   "source": [
    "# Домашнее задание к лекции «Основы парсинга и работы с API»"
   ]
  },
  {
   "cell_type": "markdown",
   "metadata": {},
   "source": [
    "## Задание 1.\n",
    "### Обязательная часть\n",
    "\n",
    "Будем парсить страницу со свежеми новостям на habr.com/ru/all/.\n",
    "\n",
    "Вам необходимо собирать только те статьи, в которых встречается хотя бы одно требуемое ключевое слово. Эти слова определяем в начале кода в переменной, например:\n",
    "\n",
    "KEYWORDS = ['python', 'парсинг']\n",
    "\n",
    "Поиск вести по всей доступной preview-информации (это информация, доступная непосредственно с текущей страницы).\n",
    "\n",
    "В итоге должен формироваться датафрейм вида: <дата> - <заголовок> - <ссылка>\n",
    "\n",
    "Дополнительная часть (необязательная)\n",
    "Улучшить скрипт так, чтобы он анализировал не только preview-информацию статьи, но и весь текст статьи целиком.\n",
    "\n",
    "Для этого потребуется получать страницы статей и искать по тексту внутри этой страницы.\n",
    "\n",
    "Итоговый датафрейм формировать со столбцами: <дата> - <заголовок> - <ссылка> - <текст_статьи>\n"
   ]
  },
  {
   "cell_type": "code",
   "execution_count": null,
   "metadata": {},
   "outputs": [],
   "source": [
    "import pandas as pd\n",
    "import requests\n",
    "from bs4 import BeautifulSoup\n",
    "import time"
   ]
  },
  {
   "cell_type": "code",
   "execution_count": null,
   "metadata": {
    "scrolled": true
   },
   "outputs": [],
   "source": [
    "KEYWORDS = ['python', 'парсинг']\n",
    "URL = 'https://habr.com/ru/search/'\n",
    "params = {\n",
    "    'q': 'python'\n",
    "}\n",
    "# получение результатов запроса для 'python'\n",
    "req = requests.get(URL, params=params)\n",
    "req.text\n"
   ]
  },
  {
   "cell_type": "code",
   "execution_count": null,
   "metadata": {},
   "outputs": [],
   "source": [
    "# парсинг полученного текста\n",
    "soup = BeautifulSoup(req.text, 'html.parser')\n",
    "soup"
   ]
  },
  {
   "cell_type": "code",
   "execution_count": null,
   "metadata": {},
   "outputs": [],
   "source": [
    "# текст с блоками постов\n",
    "post_bloks = soup.find_all('article', class_='post')\n",
    "post_bloks"
   ]
  },
  {
   "cell_type": "code",
   "execution_count": null,
   "metadata": {},
   "outputs": [],
   "source": [
    "# текст ссылок на посты\n",
    "post_links_text = list(map(lambda x: x.find('a', class_='post__title_link'), post_bloks))\n",
    "post_links_text"
   ]
  },
  {
   "cell_type": "code",
   "execution_count": null,
   "metadata": {},
   "outputs": [],
   "source": [
    "# список ссылок\n",
    "all_refs = list(map(lambda x: x.get('href'), post_links_text))\n",
    "all_refs"
   ]
  },
  {
   "cell_type": "code",
   "execution_count": null,
   "metadata": {},
   "outputs": [],
   "source": [
    "# оборачиваем в функцию получения списка ссылок\n",
    "KEYWORDS = ['python', 'парсинг']\n",
    "URL = 'https://habr.com/ru/search/'\n",
    "\n",
    "def get_links(URL, KEYWORDS):\n",
    "    '''Возвращает список ссылок на посты из URL содержащих любое слово из KEYWORDS'''\n",
    "    all_refs = []\n",
    "    params = {}\n",
    "    for word in KEYWORDS:\n",
    "        params['q'] = word\n",
    "        req = requests.get(URL, params=params)\n",
    "        time.sleep(0.3)\n",
    "        soup = BeautifulSoup(req.text, 'html.parser')\n",
    "        post_bloks = soup.find_all('article', class_='post')\n",
    "        all_refs += list(map(lambda x: x.find('a', class_='post__title_link').get('href'), post_bloks))\n",
    "    return all_refs\n",
    "\n",
    "all_links = get_links(URL, KEYWORDS)\n",
    "all_links"
   ]
  },
  {
   "cell_type": "code",
   "execution_count": null,
   "metadata": {},
   "outputs": [],
   "source": [
    "# даты\n",
    "# заголовоки\n",
    "\n",
    "def get_articles(all_links):\n",
    "    '''По найденным ссылкам из поискового запроса возвращает Dataframe\n",
    "    со столбцами'date', 'title', 'link' для найденных результатов'''\n",
    "    df_articles = pd.DataFrame()\n",
    "    for link in all_links:\n",
    "        req = requests.get(link)\n",
    "        time.sleep(0.3)\n",
    "        soup = BeautifulSoup(req.text, 'html.parser')\n",
    "        date = pd.to_datetime(soup.find('span', class_='post__time').get('data-time_published'))\n",
    "        title = soup.find('span', class_='post__title-text').text\n",
    "        row = {'date': date, 'title': title, 'link': link}\n",
    "        df_articles = pd.concat([df_articles, pd.DataFrame([row])])\n",
    "    return df_articles.reset_index(drop=True)\n",
    "df_articles = get_articles(all_links)\n",
    "df_articles"
   ]
  },
  {
   "cell_type": "markdown",
   "metadata": {},
   "source": [
    "# Задание 2.¶\n",
    "## Обязательная часть¶\n",
    "\n",
    "Написать скрипт, который будет проверять список e-mail адресов на утечку при помощи сервиса Avast Hack Ckeck. Список email-ов задаем переменной в начале кода: EMAIL = [xxx@x.ru, yyy@y.com]\n",
    "\n",
    "В итоге должен формироваться датафрейм со столбцами: <почта> - <дата утечки> - <источник утечки> - <описание утечки>\n",
    "\n",
    "Подсказка: сервис работает при помощи \"скрытого\" API. Внимательно изучите post-запросы.\n",
    "\n",
    "## Дополнительная часть (необязательная)\n",
    "\n",
    "Написать скрипт, который будет получать 50 последних постов указанной группы во Вконтакте. Документация к API VK: https://vk.com/dev/methods , вам поможет метод wall.get\n",
    "\n",
    "GROUP = 'netology'\n",
    "TOKEN = УДАЛЯЙТЕ В ВЕРСИИ ДЛЯ ПРОВЕРКИ, НА GITHUB НЕ ВЫКЛАДЫВАТЬ В итоге должен формироваться датафрейм со столбцами: <дата поста> - <текст поста>\n",
    "\n"
   ]
  },
  {
   "cell_type": "code",
   "execution_count": null,
   "metadata": {},
   "outputs": [],
   "source": [
    "EMAIL = {'emailAddresses': ['xxx@x.ru', 'yyy@y.com']}\n",
    "URL = 'https://identityprotection.avast.com/v1/web/query/site-breaches/unauthorized-data'\n",
    "headers = {\"Vaar-Version\": \"0\",\n",
    "          \"Vaar-Header-App-Product-Name\": \"hackcheck-web-avast\",\n",
    "          \"Vaar-Header-App-Product\": \"hackcheck-web-avast\"}\n",
    "req = requests.post(URL, json=EMAIL, headers=headers)\n",
    "req.text"
   ]
  },
  {
   "cell_type": "code",
   "execution_count": null,
   "metadata": {
    "scrolled": false
   },
   "outputs": [],
   "source": [
    "req.json()"
   ]
  },
  {
   "cell_type": "code",
   "execution_count": null,
   "metadata": {},
   "outputs": [],
   "source": [
    "df = pd.DataFrame(req.json()['data'])\n",
    "df.info()"
   ]
  },
  {
   "cell_type": "code",
   "execution_count": null,
   "metadata": {},
   "outputs": [],
   "source": [
    "df\n"
   ]
  },
  {
   "cell_type": "code",
   "execution_count": null,
   "metadata": {},
   "outputs": [],
   "source": []
  }
 ],
 "metadata": {
  "kernelspec": {
   "display_name": "Python 3",
   "language": "python",
   "name": "python3"
  },
  "language_info": {
   "codemirror_mode": {
    "name": "ipython",
    "version": 3
   },
   "file_extension": ".py",
   "mimetype": "text/x-python",
   "name": "python",
   "nbconvert_exporter": "python",
   "pygments_lexer": "ipython3",
   "version": "3.8.5"
  }
 },
 "nbformat": 4,
 "nbformat_minor": 4
}
