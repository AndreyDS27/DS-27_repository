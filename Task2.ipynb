{
 "cells": [
  {
   "cell_type": "markdown",
   "metadata": {},
   "source": [
    "# Домашнее задание к лекции \"Введение в типы данных и циклы. Часть 1\""
   ]
  },
  {
   "cell_type": "markdown",
   "metadata": {},
   "source": [
    "## Задание 1\n",
    "\n",
    "Дана переменная, в которой хранится слово из латинских букв. Напишите код, который выводит на экран:\n",
    "\n",
    "среднюю букву, если число букв в слове нечетное;\n",
    "две средних буквы, если число букв четное.\n",
    "Примеры работы программы:\n",
    "\n",
    "word = 'test'\n",
    "Результат:\n",
    "es\n",
    "\n",
    "word = 'testing'\n",
    "Результат:\n",
    "t"
   ]
  },
  {
   "cell_type": "code",
   "execution_count": 1,
   "metadata": {},
   "outputs": [
    {
     "name": "stdout",
     "output_type": "stream",
     "text": [
      "Введите слово из латинских букв: test\n",
      "es\n"
     ]
    }
   ],
   "source": [
    "# Task 1\n",
    "\n",
    "word = input('Введите слово из латинских букв: ')\n",
    "\n",
    "length_word = len(word)\n",
    "i1 = length_word //2 - 1\n",
    "i2 = length_word //2 + 1\n",
    "\n",
    "if length_word %2 == 0:\n",
    "    print(word[i1:i2])\n",
    "else:\n",
    "    print(word[length_word //2])"
   ]
  },
  {
   "cell_type": "markdown",
   "metadata": {},
   "source": [
    "## Задание 2\n",
    "\n",
    "Напишите программу, которая последовательно запрашивает у пользователя числа (по одному за раз) и после первого нуля выводит сумму всех ранее введенных чисел."
   ]
  },
  {
   "cell_type": "code",
   "execution_count": 12,
   "metadata": {},
   "outputs": [
    {
     "name": "stdout",
     "output_type": "stream",
     "text": [
      "Введите число: 1\n",
      "Введите число: 2\n",
      "Введите число: 3\n",
      "Введите число: 4\n",
      "Введите число: 0\n",
      "____________________\n",
      "Результат: 10\n"
     ]
    }
   ],
   "source": [
    "# Task 2\n",
    "\n",
    "num1 = int(input('Введите число: '))\n",
    "sum = num1\n",
    "while num1!= 0:    \n",
    "    if num1 != 0:\n",
    "        num2 = int(input('Введите число: '))\n",
    "        sum += num2\n",
    "        num1 = num2\n",
    "            \n",
    "print(f'____________________\\nРезультат: {sum}')\n"
   ]
  },
  {
   "cell_type": "markdown",
   "metadata": {},
   "source": [
    "## Задание 3\n",
    "Мы делаем MVP dating-сервиса, и у нас есть список парней и девушек.\n",
    "Выдвигаем гипотезу: лучшие рекомендации мы получим, если просто отсортируем имена по алфавиту и познакомим людей с одинаковыми индексами после сортировки! Но мы не будем никого знакомить, если кто-то может остаться без пары:\n",
    "\n",
    "Примеры работы программы:\n",
    "\n",
    "boys = ['Peter', 'Alex', 'John', 'Arthur', 'Richard']\n",
    "\n",
    "girls = ['Kate', 'Liza', 'Kira', 'Emma', 'Trisha']\n",
    "\n",
    "Результат:\n",
    "\n",
    "Идеальные пары:  \n",
    "Alex и Emma  \n",
    "Arthur и Kate  \n",
    "John и Kira  \n",
    "Peter и Liza  \n",
    "Richard и Trisha\n",
    "\n",
    "boys = ['Peter', 'Alex', 'John', 'Arthur', 'Richard', 'Michael']\n",
    "\n",
    "girls = ['Kate', 'Liza', 'Kira', 'Emma', 'Trisha']\n",
    "\n",
    "Результат:\n",
    "Внимание, кто-то может остаться без пары!"
   ]
  },
  {
   "cell_type": "code",
   "execution_count": 11,
   "metadata": {},
   "outputs": [
    {
     "name": "stdout",
     "output_type": "stream",
     "text": [
      "Результат:\n",
      " \n",
      "Идеальные пары:\n",
      "\n",
      "Alex Emma\n",
      "Arthur Kate\n",
      "John Kira\n",
      "Peter Liza\n",
      "Richard Trisha\n"
     ]
    }
   ],
   "source": [
    "# Task 3\n",
    "\n",
    "boys = ['Peter', 'Alex', 'John', 'Arthur', 'Richard']\n",
    "\n",
    "girls = ['Kate', 'Liza', 'Kira', 'Emma', 'Trisha']\n",
    "\n",
    "\n",
    "# сортировка списков по алфавиту\n",
    "\n",
    "boys = sorted(boys)\n",
    "girls = sorted(girls)\n",
    "\n",
    "\n",
    "# определить список с наименьшим количеством элементов\n",
    "# сопоставление имен в списке по индексу\n",
    "# len(list1) != len(list2)- не хватит пары\n",
    "\n",
    "count_boys = len(boys)\n",
    "count_girls = len(girls)\n",
    "\n",
    "if count_boys != count_girls:\n",
    "    print('Результат: Внимание, кто-то может остаться без пары!')\n",
    "else:\n",
    "    #составить из двух списков один, объединив поиндексно\n",
    "\n",
    "    boys_girls = list(zip(boys, girls))\n",
    "    #result = (list(boys_girls))\n",
    "    \n",
    "    max_len = max(count_boys, count_girls)\n",
    "    min_len = min(count_boys, count_girls)\n",
    "       \n",
    "    print('Результат:\\n \\nИдеальные пары:\\n')\n",
    "    \n",
    "    k=0\n",
    "    for boy, girl in boys_girls:          \n",
    "        print(boy, girl)\n",
    "   \n"
   ]
  },
  {
   "cell_type": "markdown",
   "metadata": {},
   "source": [
    "## Задание 4\n",
    "\n",
    "У нас есть список, содержащий информацию о среднедневной температуре в Фаренгейтах за произвольный период по странам (структура данных в примере). Необходимо написать код, который рассчитает среднюю температуру за период в Цельсиях(!) для каждой страны.\n",
    "\n",
    "Пример работы программы:\n",
    "\n",
    "countries_temperature = [\n",
    "\n",
    "    ['Thailand', [75.2, 77, 78.8, 73.4, 68, 75.2, 77]],\n",
    "    \n",
    "    ['Germany', [57.2, 55.4, 59, 59, 53.6]],\n",
    "    \n",
    "    ['Russia', [35.6, 37.4, 39.2, 41, 42.8, 39.2, 35.6]],\n",
    "    \n",
    "    ['Poland', [50, 50, 53.6, 57.2, 55.4, 55.4]]\n",
    "]\n",
    "\n",
    "Результат:\n",
    "\n",
    "Средняя температура в странах:\n",
    "\n",
    "Thailand  -  23.9 С\n",
    "\n",
    "Germany  -  13.8 С\n",
    "\n",
    "Russia  -  3.7 С\n",
    "\n",
    "Poland  -  12.0 С"
   ]
  },
  {
   "cell_type": "code",
   "execution_count": 10,
   "metadata": {},
   "outputs": [
    {
     "name": "stdout",
     "output_type": "stream",
     "text": [
      "Результат:\n",
      "_____________________________\n",
      "\n",
      "Средняя температура в странах:\n",
      "Thailand - 23.9 C\n",
      "Germany - 13.8 C\n",
      "Russia - 3.7 C\n",
      "Poland - 12.0 C\n"
     ]
    }
   ],
   "source": [
    "# Task 4\n",
    "\n",
    "countries_temperatures = [\n",
    "\n",
    "['Thailand', [75.2, 77, 78.8, 73.4, 68, 75.2, 77]],\n",
    "\n",
    "['Germany', [57.2, 55.4, 59, 59, 53.6]],\n",
    "\n",
    "['Russia', [35.6, 37.4, 39.2, 41, 42.8, 39.2, 35.6]],\n",
    "\n",
    "['Poland', [50, 50, 53.6, 57.2, 55.4, 55.4]]\n",
    "]\n",
    "\n",
    "# (32 °F − 32) × 5/9 = 0 °C\n",
    "\n",
    "\n",
    "sum = 0\n",
    "print('Результат:\\n_____________________________\\n')\n",
    "print('Средняя температура в странах:')\n",
    "for country_name, country_temperatures in countries_temperatures:\n",
    "    \n",
    "    sum = 0\n",
    "    for country_temperature in country_temperatures:\n",
    "        temperature_c = (country_temperature - 32)*5/9\n",
    "        sum += temperature_c\n",
    "    \n",
    "    average_temperature_c = round(sum/len(country_temperatures), 1)\n",
    "    print(f'{country_name} - {average_temperature_c} C')\n"
   ]
  },
  {
   "cell_type": "code",
   "execution_count": null,
   "metadata": {},
   "outputs": [],
   "source": []
  },
  {
   "cell_type": "code",
   "execution_count": null,
   "metadata": {},
   "outputs": [],
   "source": []
  },
  {
   "cell_type": "code",
   "execution_count": null,
   "metadata": {},
   "outputs": [],
   "source": []
  },
  {
   "cell_type": "code",
   "execution_count": null,
   "metadata": {},
   "outputs": [],
   "source": []
  },
  {
   "cell_type": "code",
   "execution_count": null,
   "metadata": {},
   "outputs": [],
   "source": []
  },
  {
   "cell_type": "code",
   "execution_count": null,
   "metadata": {},
   "outputs": [],
   "source": []
  },
  {
   "cell_type": "code",
   "execution_count": null,
   "metadata": {},
   "outputs": [],
   "source": []
  },
  {
   "cell_type": "code",
   "execution_count": null,
   "metadata": {},
   "outputs": [],
   "source": []
  },
  {
   "cell_type": "code",
   "execution_count": null,
   "metadata": {},
   "outputs": [],
   "source": []
  },
  {
   "cell_type": "code",
   "execution_count": null,
   "metadata": {},
   "outputs": [],
   "source": []
  },
  {
   "cell_type": "code",
   "execution_count": null,
   "metadata": {},
   "outputs": [],
   "source": []
  }
 ],
 "metadata": {
  "celltoolbar": "Необработанный формат ячейки",
  "kernelspec": {
   "display_name": "Python 3",
   "language": "python",
   "name": "python3"
  },
  "language_info": {
   "codemirror_mode": {
    "name": "ipython",
    "version": 3
   },
   "file_extension": ".py",
   "mimetype": "text/x-python",
   "name": "python",
   "nbconvert_exporter": "python",
   "pygments_lexer": "ipython3",
   "version": "3.8.5"
  }
 },
 "nbformat": 4,
 "nbformat_minor": 4
}
