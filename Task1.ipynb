{
 "cells": [
  {
   "cell_type": "markdown",
   "metadata": {},
   "source": [
    "#Task1"
   ]
  },
  {
   "cell_type": "code",
   "execution_count": 9,
   "metadata": {},
   "outputs": [
    {
     "name": "stdout",
     "output_type": "stream",
     "text": [
      "Фраза 2 длиннее фразы 1\n"
     ]
    }
   ],
   "source": [
    "#Task1\n",
    "\n",
    "'''Даны 2 переменных, в которых хранятся строки произвольной длины: phrase_1 и phrase_2.\n",
    "Напишите код, который проверяет какая из этих строк длиннее.'''\n",
    "\n",
    "\n",
    "phrase_1 = '640Кб должно хватить для любых задач. Билл Гейтс (по легенде)'\n",
    "phrase_2 = 'Насколько проще было бы писать программы, если бы не заказчики'\n",
    "\n",
    "if len(phrase_1) > len(phrase_1):\n",
    "    print('Фраза 1 длиннее фразы 2')\n",
    "else: \n",
    "    print('Фраза 2 длиннее фразы 1')\n"
   ]
  },
  {
   "cell_type": "code",
   "execution_count": 12,
   "metadata": {},
   "outputs": [
    {
     "name": "stdout",
     "output_type": "stream",
     "text": [
      "Введите четыре цифры года: 2019\n",
      "2019\n",
      "Обычный год\n"
     ]
    }
   ],
   "source": [
    "#Task2\n",
    "\n",
    "'''Дана переменная, в которой хранится четырехзначное число (год).\n",
    "   Необходимо написать программу, которая выведет, является ли данный год високосным или обычным.'''\n",
    "\n",
    "year = input('Введите четыре цифры года: ')\n",
    "year = int(year)\n",
    "print(year)\n",
    "\n",
    "if year %4 == 0:\n",
    "    print('Високосный год')\n",
    "else:\n",
    "    print('Обычный год')"
   ]
  },
  {
   "cell_type": "code",
   "execution_count": null,
   "metadata": {},
   "outputs": [],
   "source": [
    "#Task3\n",
    "\n",
    "'''Необходимо написать программу, которая будет запрашивать\n",
    "   у пользователя месяц и дату рождения и выводить соответствующий знак зодиака.'''\n",
    "\n",
    "#Овен (21 марта — 20 апреля)\n",
    "#Телец (21 апреля — 21 мая)\n",
    "#Близнецы (22 мая — 21 июня)\n",
    "#Рак (22 июня — 22 июля)\n",
    "#Лев (23 июля — 21 августа)\n",
    "#Дева (22 августа — 23 сентября)\n",
    "#Весы (24 сентября — 23 октября)\n",
    "#Скорпион (24 октября — 22 ноября)\n",
    "#Скорпион (24 октября — 22 ноября)\n",
    "#Скорпион (24 октября — 22 ноября)\n",
    "#Водолей (21 января — 19 февраля)\n",
    "#Рыбы (20 февраля — 20 марта)\n",
    "\n",
    "\n",
    "import date.time\n",
    "\n",
    "day = input('Введите день: ')\n",
    "month = input('Введите месяц: ')\n",
    "\n",
    "\n"
   ]
  },
  {
   "cell_type": "code",
   "execution_count": null,
   "metadata": {},
   "outputs": [],
   "source": []
  }
 ],
 "metadata": {
  "kernelspec": {
   "display_name": "Python 3",
   "language": "python",
   "name": "python3"
  },
  "language_info": {
   "codemirror_mode": {
    "name": "ipython",
    "version": 3
   },
   "file_extension": ".py",
   "mimetype": "text/x-python",
   "name": "python",
   "nbconvert_exporter": "python",
   "pygments_lexer": "ipython3",
   "version": "3.8.5"
  }
 },
 "nbformat": 4,
 "nbformat_minor": 4
}
